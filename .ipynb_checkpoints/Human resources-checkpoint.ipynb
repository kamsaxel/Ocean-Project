{
 "cells": [
  {
   "cell_type": "markdown",
   "id": "9ec35684-69b9-4aae-8f47-9bcbbce77002",
   "metadata": {},
   "source": [
    "# Welcome to my Human Resource Notebook\n",
    "Make use of the Notebook.\n",
    "Human resources, or HR, is a department in a company that manages its employees and ensures their well-being."
   ]
  },
  {
   "cell_type": "markdown",
   "id": "070bbee3-22ad-4d93-a841-15aa4e06f6b2",
   "metadata": {},
   "source": [
    "The Objective of this notebook is to give an idea of the workflow in any predictive modeling problem. How do we check features, how do we add new features and some Machine Learning Concepts? I have tried to keep the notebook as basic as possible so that even newbies can understand every phase."
   ]
  },
  {
   "cell_type": "markdown",
   "id": "d64c5e3e-daca-455e-b91f-5a43cc7683dc",
   "metadata": {},
   "source": [
    "Contents of the Notebook:\n",
    "Sector1: Exploratory Data Analysis(EDA):\n",
    "1)Analysis of the features.\n",
    "\n",
    "2)Basic Analysis \n",
    "\n",
    "3)Finding any relations or trends considering multiple features.\n",
    "\n",
    "Part2: Feature Engineering and Data Cleaning:\n",
    "1)Adding any few features.\n",
    "\n",
    "2)Making the IQR method.\n",
    "\n",
    "3)Converting features into a suitable form for modeling.\n",
    "\n",
    "Part3: Predictive Modeling\n",
    "1)Running Basic Algorithms.\n",
    "\n",
    "2)Cross Validation.\n",
    "\n",
    "3)Ensembling.\n",
    "\n",
    "4)Important Features Extraction."
   ]
  },
  {
   "cell_type": "markdown",
   "id": "0570783d-7da1-4c7e-acb2-4a1356a1a9c4",
   "metadata": {},
   "source": [
    "# Import Libaries "
   ]
  },
  {
   "cell_type": "markdown",
   "id": "625fb61a-74bd-4512-a3b8-8dd301b6ec93",
   "metadata": {},
   "source": [
    "**Load the Data set**"
   ]
  },
  {
   "cell_type": "code",
   "execution_count": 137,
   "id": "523c3395-83a7-4229-93a5-3e5d683ebc77",
   "metadata": {},
   "outputs": [],
   "source": [
    "import pandas as pd\n",
    "import numpy as np\n",
    "import seaborn as sns\n",
    "import matplotlib.pyplot as plt\n",
    "import warnings\n",
    "warnings.filterwarnings(\"ignore\")"
   ]
  },
  {
   "cell_type": "markdown",
   "id": "b2587eaf-b7fb-403d-ac62-ca9c60e6eafc",
   "metadata": {},
   "source": [
    "Import the libraries for making charts and cleaning and more productive process"
   ]
  },
  {
   "cell_type": "code",
   "execution_count": 139,
   "id": "b157c701-4400-4197-89d8-33732037b92c",
   "metadata": {},
   "outputs": [],
   "source": [
    "df=pd.read_csv(\"StudentsPerformance.csv\")"
   ]
  },
  {
   "cell_type": "markdown",
   "id": "f0c0840f-f909-4ef2-bcba-d509ea6fdcdf",
   "metadata": {},
   "source": [
    "Call the dataset CSV here I am using the student performance data set"
   ]
  },
  {
   "cell_type": "markdown",
   "id": "cdd1b364-f359-4640-8f40-efb6bb2bfbdd",
   "metadata": {},
   "source": [
    "**View the details**"
   ]
  },
  {
   "cell_type": "code",
   "execution_count": 142,
   "id": "283771ca-74af-4f06-adf3-36bee98501bd",
   "metadata": {},
   "outputs": [
    {
     "data": {
      "text/html": [
       "<div>\n",
       "<style scoped>\n",
       "    .dataframe tbody tr th:only-of-type {\n",
       "        vertical-align: middle;\n",
       "    }\n",
       "\n",
       "    .dataframe tbody tr th {\n",
       "        vertical-align: top;\n",
       "    }\n",
       "\n",
       "    .dataframe thead th {\n",
       "        text-align: right;\n",
       "    }\n",
       "</style>\n",
       "<table border=\"1\" class=\"dataframe\">\n",
       "  <thead>\n",
       "    <tr style=\"text-align: right;\">\n",
       "      <th></th>\n",
       "      <th>gender</th>\n",
       "      <th>race/ethnicity</th>\n",
       "      <th>parental level of education</th>\n",
       "      <th>lunch</th>\n",
       "      <th>test preparation course</th>\n",
       "      <th>math score</th>\n",
       "      <th>reading score</th>\n",
       "      <th>writing score</th>\n",
       "    </tr>\n",
       "  </thead>\n",
       "  <tbody>\n",
       "    <tr>\n",
       "      <th>0</th>\n",
       "      <td>female</td>\n",
       "      <td>group B</td>\n",
       "      <td>bachelor's degree</td>\n",
       "      <td>standard</td>\n",
       "      <td>none</td>\n",
       "      <td>72</td>\n",
       "      <td>72</td>\n",
       "      <td>74</td>\n",
       "    </tr>\n",
       "    <tr>\n",
       "      <th>1</th>\n",
       "      <td>female</td>\n",
       "      <td>group C</td>\n",
       "      <td>some college</td>\n",
       "      <td>standard</td>\n",
       "      <td>completed</td>\n",
       "      <td>69</td>\n",
       "      <td>90</td>\n",
       "      <td>88</td>\n",
       "    </tr>\n",
       "    <tr>\n",
       "      <th>2</th>\n",
       "      <td>female</td>\n",
       "      <td>group B</td>\n",
       "      <td>master's degree</td>\n",
       "      <td>standard</td>\n",
       "      <td>none</td>\n",
       "      <td>90</td>\n",
       "      <td>95</td>\n",
       "      <td>93</td>\n",
       "    </tr>\n",
       "    <tr>\n",
       "      <th>3</th>\n",
       "      <td>male</td>\n",
       "      <td>group A</td>\n",
       "      <td>associate's degree</td>\n",
       "      <td>free/reduced</td>\n",
       "      <td>none</td>\n",
       "      <td>47</td>\n",
       "      <td>57</td>\n",
       "      <td>44</td>\n",
       "    </tr>\n",
       "    <tr>\n",
       "      <th>4</th>\n",
       "      <td>male</td>\n",
       "      <td>group C</td>\n",
       "      <td>some college</td>\n",
       "      <td>standard</td>\n",
       "      <td>none</td>\n",
       "      <td>76</td>\n",
       "      <td>78</td>\n",
       "      <td>75</td>\n",
       "    </tr>\n",
       "    <tr>\n",
       "      <th>5</th>\n",
       "      <td>female</td>\n",
       "      <td>group B</td>\n",
       "      <td>associate's degree</td>\n",
       "      <td>standard</td>\n",
       "      <td>none</td>\n",
       "      <td>71</td>\n",
       "      <td>83</td>\n",
       "      <td>78</td>\n",
       "    </tr>\n",
       "    <tr>\n",
       "      <th>6</th>\n",
       "      <td>female</td>\n",
       "      <td>group B</td>\n",
       "      <td>some college</td>\n",
       "      <td>standard</td>\n",
       "      <td>completed</td>\n",
       "      <td>88</td>\n",
       "      <td>95</td>\n",
       "      <td>92</td>\n",
       "    </tr>\n",
       "    <tr>\n",
       "      <th>7</th>\n",
       "      <td>male</td>\n",
       "      <td>group B</td>\n",
       "      <td>some college</td>\n",
       "      <td>free/reduced</td>\n",
       "      <td>none</td>\n",
       "      <td>40</td>\n",
       "      <td>43</td>\n",
       "      <td>39</td>\n",
       "    </tr>\n",
       "    <tr>\n",
       "      <th>8</th>\n",
       "      <td>male</td>\n",
       "      <td>group D</td>\n",
       "      <td>high school</td>\n",
       "      <td>free/reduced</td>\n",
       "      <td>completed</td>\n",
       "      <td>64</td>\n",
       "      <td>64</td>\n",
       "      <td>67</td>\n",
       "    </tr>\n",
       "    <tr>\n",
       "      <th>9</th>\n",
       "      <td>female</td>\n",
       "      <td>group B</td>\n",
       "      <td>high school</td>\n",
       "      <td>free/reduced</td>\n",
       "      <td>none</td>\n",
       "      <td>38</td>\n",
       "      <td>60</td>\n",
       "      <td>50</td>\n",
       "    </tr>\n",
       "    <tr>\n",
       "      <th>10</th>\n",
       "      <td>male</td>\n",
       "      <td>group C</td>\n",
       "      <td>associate's degree</td>\n",
       "      <td>standard</td>\n",
       "      <td>none</td>\n",
       "      <td>58</td>\n",
       "      <td>54</td>\n",
       "      <td>52</td>\n",
       "    </tr>\n",
       "    <tr>\n",
       "      <th>11</th>\n",
       "      <td>male</td>\n",
       "      <td>group D</td>\n",
       "      <td>associate's degree</td>\n",
       "      <td>standard</td>\n",
       "      <td>none</td>\n",
       "      <td>40</td>\n",
       "      <td>52</td>\n",
       "      <td>43</td>\n",
       "    </tr>\n",
       "    <tr>\n",
       "      <th>12</th>\n",
       "      <td>female</td>\n",
       "      <td>group B</td>\n",
       "      <td>high school</td>\n",
       "      <td>standard</td>\n",
       "      <td>none</td>\n",
       "      <td>65</td>\n",
       "      <td>81</td>\n",
       "      <td>73</td>\n",
       "    </tr>\n",
       "    <tr>\n",
       "      <th>13</th>\n",
       "      <td>male</td>\n",
       "      <td>group A</td>\n",
       "      <td>some college</td>\n",
       "      <td>standard</td>\n",
       "      <td>completed</td>\n",
       "      <td>78</td>\n",
       "      <td>72</td>\n",
       "      <td>70</td>\n",
       "    </tr>\n",
       "    <tr>\n",
       "      <th>14</th>\n",
       "      <td>female</td>\n",
       "      <td>group A</td>\n",
       "      <td>master's degree</td>\n",
       "      <td>standard</td>\n",
       "      <td>none</td>\n",
       "      <td>50</td>\n",
       "      <td>53</td>\n",
       "      <td>58</td>\n",
       "    </tr>\n",
       "    <tr>\n",
       "      <th>15</th>\n",
       "      <td>female</td>\n",
       "      <td>group C</td>\n",
       "      <td>some high school</td>\n",
       "      <td>standard</td>\n",
       "      <td>none</td>\n",
       "      <td>69</td>\n",
       "      <td>75</td>\n",
       "      <td>78</td>\n",
       "    </tr>\n",
       "    <tr>\n",
       "      <th>16</th>\n",
       "      <td>male</td>\n",
       "      <td>group C</td>\n",
       "      <td>high school</td>\n",
       "      <td>standard</td>\n",
       "      <td>none</td>\n",
       "      <td>88</td>\n",
       "      <td>89</td>\n",
       "      <td>86</td>\n",
       "    </tr>\n",
       "    <tr>\n",
       "      <th>17</th>\n",
       "      <td>female</td>\n",
       "      <td>group B</td>\n",
       "      <td>some high school</td>\n",
       "      <td>free/reduced</td>\n",
       "      <td>none</td>\n",
       "      <td>18</td>\n",
       "      <td>32</td>\n",
       "      <td>28</td>\n",
       "    </tr>\n",
       "    <tr>\n",
       "      <th>18</th>\n",
       "      <td>male</td>\n",
       "      <td>group C</td>\n",
       "      <td>master's degree</td>\n",
       "      <td>free/reduced</td>\n",
       "      <td>completed</td>\n",
       "      <td>46</td>\n",
       "      <td>42</td>\n",
       "      <td>46</td>\n",
       "    </tr>\n",
       "    <tr>\n",
       "      <th>19</th>\n",
       "      <td>female</td>\n",
       "      <td>group C</td>\n",
       "      <td>associate's degree</td>\n",
       "      <td>free/reduced</td>\n",
       "      <td>none</td>\n",
       "      <td>54</td>\n",
       "      <td>58</td>\n",
       "      <td>61</td>\n",
       "    </tr>\n",
       "    <tr>\n",
       "      <th>20</th>\n",
       "      <td>male</td>\n",
       "      <td>group D</td>\n",
       "      <td>high school</td>\n",
       "      <td>standard</td>\n",
       "      <td>none</td>\n",
       "      <td>66</td>\n",
       "      <td>69</td>\n",
       "      <td>63</td>\n",
       "    </tr>\n",
       "    <tr>\n",
       "      <th>21</th>\n",
       "      <td>female</td>\n",
       "      <td>group B</td>\n",
       "      <td>some college</td>\n",
       "      <td>free/reduced</td>\n",
       "      <td>completed</td>\n",
       "      <td>65</td>\n",
       "      <td>75</td>\n",
       "      <td>70</td>\n",
       "    </tr>\n",
       "    <tr>\n",
       "      <th>22</th>\n",
       "      <td>male</td>\n",
       "      <td>group D</td>\n",
       "      <td>some college</td>\n",
       "      <td>standard</td>\n",
       "      <td>none</td>\n",
       "      <td>44</td>\n",
       "      <td>54</td>\n",
       "      <td>53</td>\n",
       "    </tr>\n",
       "  </tbody>\n",
       "</table>\n",
       "</div>"
      ],
      "text/plain": [
       "    gender race/ethnicity parental level of education         lunch  \\\n",
       "0   female        group B           bachelor's degree      standard   \n",
       "1   female        group C                some college      standard   \n",
       "2   female        group B             master's degree      standard   \n",
       "3     male        group A          associate's degree  free/reduced   \n",
       "4     male        group C                some college      standard   \n",
       "5   female        group B          associate's degree      standard   \n",
       "6   female        group B                some college      standard   \n",
       "7     male        group B                some college  free/reduced   \n",
       "8     male        group D                 high school  free/reduced   \n",
       "9   female        group B                 high school  free/reduced   \n",
       "10    male        group C          associate's degree      standard   \n",
       "11    male        group D          associate's degree      standard   \n",
       "12  female        group B                 high school      standard   \n",
       "13    male        group A                some college      standard   \n",
       "14  female        group A             master's degree      standard   \n",
       "15  female        group C            some high school      standard   \n",
       "16    male        group C                 high school      standard   \n",
       "17  female        group B            some high school  free/reduced   \n",
       "18    male        group C             master's degree  free/reduced   \n",
       "19  female        group C          associate's degree  free/reduced   \n",
       "20    male        group D                 high school      standard   \n",
       "21  female        group B                some college  free/reduced   \n",
       "22    male        group D                some college      standard   \n",
       "\n",
       "   test preparation course  math score  reading score  writing score  \n",
       "0                     none          72             72             74  \n",
       "1                completed          69             90             88  \n",
       "2                     none          90             95             93  \n",
       "3                     none          47             57             44  \n",
       "4                     none          76             78             75  \n",
       "5                     none          71             83             78  \n",
       "6                completed          88             95             92  \n",
       "7                     none          40             43             39  \n",
       "8                completed          64             64             67  \n",
       "9                     none          38             60             50  \n",
       "10                    none          58             54             52  \n",
       "11                    none          40             52             43  \n",
       "12                    none          65             81             73  \n",
       "13               completed          78             72             70  \n",
       "14                    none          50             53             58  \n",
       "15                    none          69             75             78  \n",
       "16                    none          88             89             86  \n",
       "17                    none          18             32             28  \n",
       "18               completed          46             42             46  \n",
       "19                    none          54             58             61  \n",
       "20                    none          66             69             63  \n",
       "21               completed          65             75             70  \n",
       "22                    none          44             54             53  "
      ]
     },
     "execution_count": 142,
     "metadata": {},
     "output_type": "execute_result"
    }
   ],
   "source": [
    "df.head(23)"
   ]
  },
  {
   "cell_type": "code",
   "execution_count": 143,
   "id": "6c1640b4-10a4-4e5c-be23-9677fad0cfc2",
   "metadata": {},
   "outputs": [
    {
     "data": {
      "text/plain": [
       "Index(['gender', 'race/ethnicity', 'parental level of education', 'lunch',\n",
       "       'test preparation course', 'math score', 'reading score',\n",
       "       'writing score'],\n",
       "      dtype='object')"
      ]
     },
     "execution_count": 143,
     "metadata": {},
     "output_type": "execute_result"
    }
   ],
   "source": [
    "df.columns"
   ]
  },
  {
   "cell_type": "code",
   "execution_count": 144,
   "id": "5f58f03d-d8c8-4ffb-b8f6-511f66922ecc",
   "metadata": {},
   "outputs": [
    {
     "data": {
      "text/html": [
       "<div>\n",
       "<style scoped>\n",
       "    .dataframe tbody tr th:only-of-type {\n",
       "        vertical-align: middle;\n",
       "    }\n",
       "\n",
       "    .dataframe tbody tr th {\n",
       "        vertical-align: top;\n",
       "    }\n",
       "\n",
       "    .dataframe thead th {\n",
       "        text-align: right;\n",
       "    }\n",
       "</style>\n",
       "<table border=\"1\" class=\"dataframe\">\n",
       "  <thead>\n",
       "    <tr style=\"text-align: right;\">\n",
       "      <th></th>\n",
       "      <th>math score</th>\n",
       "      <th>reading score</th>\n",
       "      <th>writing score</th>\n",
       "    </tr>\n",
       "  </thead>\n",
       "  <tbody>\n",
       "    <tr>\n",
       "      <th>count</th>\n",
       "      <td>1000.00000</td>\n",
       "      <td>1000.000000</td>\n",
       "      <td>1000.000000</td>\n",
       "    </tr>\n",
       "    <tr>\n",
       "      <th>mean</th>\n",
       "      <td>66.08900</td>\n",
       "      <td>69.169000</td>\n",
       "      <td>68.054000</td>\n",
       "    </tr>\n",
       "    <tr>\n",
       "      <th>std</th>\n",
       "      <td>15.16308</td>\n",
       "      <td>14.600192</td>\n",
       "      <td>15.195657</td>\n",
       "    </tr>\n",
       "    <tr>\n",
       "      <th>min</th>\n",
       "      <td>0.00000</td>\n",
       "      <td>17.000000</td>\n",
       "      <td>10.000000</td>\n",
       "    </tr>\n",
       "    <tr>\n",
       "      <th>25%</th>\n",
       "      <td>57.00000</td>\n",
       "      <td>59.000000</td>\n",
       "      <td>57.750000</td>\n",
       "    </tr>\n",
       "    <tr>\n",
       "      <th>50%</th>\n",
       "      <td>66.00000</td>\n",
       "      <td>70.000000</td>\n",
       "      <td>69.000000</td>\n",
       "    </tr>\n",
       "    <tr>\n",
       "      <th>75%</th>\n",
       "      <td>77.00000</td>\n",
       "      <td>79.000000</td>\n",
       "      <td>79.000000</td>\n",
       "    </tr>\n",
       "    <tr>\n",
       "      <th>max</th>\n",
       "      <td>100.00000</td>\n",
       "      <td>100.000000</td>\n",
       "      <td>100.000000</td>\n",
       "    </tr>\n",
       "  </tbody>\n",
       "</table>\n",
       "</div>"
      ],
      "text/plain": [
       "       math score  reading score  writing score\n",
       "count  1000.00000    1000.000000    1000.000000\n",
       "mean     66.08900      69.169000      68.054000\n",
       "std      15.16308      14.600192      15.195657\n",
       "min       0.00000      17.000000      10.000000\n",
       "25%      57.00000      59.000000      57.750000\n",
       "50%      66.00000      70.000000      69.000000\n",
       "75%      77.00000      79.000000      79.000000\n",
       "max     100.00000     100.000000     100.000000"
      ]
     },
     "execution_count": 144,
     "metadata": {},
     "output_type": "execute_result"
    }
   ],
   "source": [
    "df.describe()"
   ]
  },
  {
   "cell_type": "code",
   "execution_count": 145,
   "id": "4a751eca-359e-43da-a80c-de022d28d422",
   "metadata": {},
   "outputs": [
    {
     "name": "stdout",
     "output_type": "stream",
     "text": [
      "<class 'pandas.core.frame.DataFrame'>\n",
      "RangeIndex: 1000 entries, 0 to 999\n",
      "Data columns (total 8 columns):\n",
      " #   Column                       Non-Null Count  Dtype \n",
      "---  ------                       --------------  ----- \n",
      " 0   gender                       1000 non-null   object\n",
      " 1   race/ethnicity               1000 non-null   object\n",
      " 2   parental level of education  1000 non-null   object\n",
      " 3   lunch                        1000 non-null   object\n",
      " 4   test preparation course      1000 non-null   object\n",
      " 5   math score                   1000 non-null   int64 \n",
      " 6   reading score                1000 non-null   int64 \n",
      " 7   writing score                1000 non-null   int64 \n",
      "dtypes: int64(3), object(5)\n",
      "memory usage: 62.6+ KB\n"
     ]
    }
   ],
   "source": [
    "df.info()"
   ]
  },
  {
   "cell_type": "markdown",
   "id": "1f153521-b8d0-4edf-be95-1d8e76412547",
   "metadata": {},
   "source": [
    "There are five objects and three integer columns"
   ]
  },
  {
   "cell_type": "code",
   "execution_count": 147,
   "id": "96ca9b9e-b656-4281-af21-26dcbd27404b",
   "metadata": {},
   "outputs": [
    {
     "data": {
      "text/plain": [
       "race/ethnicity\n",
       "group A     89\n",
       "group B    190\n",
       "group C    319\n",
       "group D    262\n",
       "group E    140\n",
       "Name: count, dtype: int64"
      ]
     },
     "execution_count": 147,
     "metadata": {},
     "output_type": "execute_result"
    }
   ],
   "source": [
    "df['race/ethnicity'].value_counts().sort_index()"
   ]
  },
  {
   "cell_type": "markdown",
   "id": "4aac9812-6cc8-46a2-9c65-e37d46f564bd",
   "metadata": {},
   "source": [
    "Now we are viewing the number of groups in ascending ordere"
   ]
  },
  {
   "cell_type": "code",
   "execution_count": 149,
   "id": "c2511026-7881-4414-825e-bd259933b598",
   "metadata": {},
   "outputs": [
    {
     "data": {
      "text/plain": [
       "gender                         object\n",
       "race/ethnicity                 object\n",
       "parental level of education    object\n",
       "lunch                          object\n",
       "test preparation course        object\n",
       "math score                      int64\n",
       "reading score                   int64\n",
       "writing score                   int64\n",
       "dtype: object"
      ]
     },
     "execution_count": 149,
     "metadata": {},
     "output_type": "execute_result"
    }
   ],
   "source": [
    "df.dtypes"
   ]
  },
  {
   "cell_type": "code",
   "execution_count": 150,
   "id": "bdad4692-200f-4d04-8c65-a040252673b1",
   "metadata": {},
   "outputs": [
    {
     "name": "stdout",
     "output_type": "stream",
     "text": [
      "Index(['gender', 'race/ethnicity', 'parental level of education', 'lunch',\n",
      "       'test preparation course'],\n",
      "      dtype='object')\n",
      "Index(['math score', 'reading score', 'writing score'], dtype='object')\n"
     ]
    }
   ],
   "source": [
    "num=df.select_dtypes(include=\"number\").columns\n",
    "cat=df.select_dtypes(exclude=\"number\").columns\n",
    "print(cat)\n",
    "print(num)"
   ]
  },
  {
   "cell_type": "markdown",
   "id": "ae740c77-fdbe-446f-9d05-4b162c14b3f1",
   "metadata": {},
   "source": [
    "Here we see a seperate categorical columns and numerical columns"
   ]
  },
  {
   "cell_type": "markdown",
   "id": "22e90b2b-d708-4942-bb8e-3590fa0fea42",
   "metadata": {},
   "source": [
    "**Missing values**"
   ]
  },
  {
   "cell_type": "code",
   "execution_count": 153,
   "id": "5b5fc53f-3387-4545-adee-7f854101cca8",
   "metadata": {},
   "outputs": [
    {
     "data": {
      "text/plain": [
       "gender                         0\n",
       "race/ethnicity                 0\n",
       "parental level of education    0\n",
       "lunch                          0\n",
       "test preparation course        0\n",
       "math score                     0\n",
       "reading score                  0\n",
       "writing score                  0\n",
       "dtype: int64"
      ]
     },
     "execution_count": 153,
     "metadata": {},
     "output_type": "execute_result"
    }
   ],
   "source": [
    "df.isnull().sum()"
   ]
  },
  {
   "cell_type": "markdown",
   "id": "621406c2-4b41-4c6f-8e47-104c857ce35e",
   "metadata": {},
   "source": [
    "We do not have any null values"
   ]
  },
  {
   "cell_type": "code",
   "execution_count": 155,
   "id": "6690e413-89da-430f-84cb-f9ede34f4a29",
   "metadata": {},
   "outputs": [
    {
     "data": {
      "text/plain": [
       "count    1000.00000\n",
       "mean       66.08900\n",
       "std        15.16308\n",
       "min         0.00000\n",
       "25%        57.00000\n",
       "50%        66.00000\n",
       "75%        77.00000\n",
       "max       100.00000\n",
       "Name: math score, dtype: float64"
      ]
     },
     "execution_count": 155,
     "metadata": {},
     "output_type": "execute_result"
    }
   ],
   "source": [
    "df['math score'].describe()"
   ]
  },
  {
   "cell_type": "code",
   "execution_count": 156,
   "id": "fe74aeea-4909-4f46-8e3b-8b5ec5a0d052",
   "metadata": {},
   "outputs": [
    {
     "data": {
      "text/plain": [
       "count       1000\n",
       "unique         2\n",
       "top       female\n",
       "freq         518\n",
       "Name: gender, dtype: object"
      ]
     },
     "execution_count": 156,
     "metadata": {},
     "output_type": "execute_result"
    }
   ],
   "source": [
    "df['gender'].describe()"
   ]
  },
  {
   "cell_type": "code",
   "execution_count": 157,
   "id": "bc238ac9-5756-4c11-b8d2-f8778ff0f112",
   "metadata": {},
   "outputs": [
    {
     "data": {
      "text/plain": [
       "<bound method IndexOpsMixin.value_counts of 0      female\n",
       "1      female\n",
       "2      female\n",
       "3        male\n",
       "4        male\n",
       "        ...  \n",
       "995    female\n",
       "996      male\n",
       "997    female\n",
       "998    female\n",
       "999    female\n",
       "Name: gender, Length: 1000, dtype: object>"
      ]
     },
     "execution_count": 157,
     "metadata": {},
     "output_type": "execute_result"
    }
   ],
   "source": [
    "df['gender'].value_counts"
   ]
  },
  {
   "cell_type": "code",
   "execution_count": 158,
   "id": "53c4bb2e-1474-41f0-9b61-8983cc56752b",
   "metadata": {},
   "outputs": [
    {
     "data": {
      "text/plain": [
       "gender\n",
       "female    51.8\n",
       "male      48.2\n",
       "Name: proportion, dtype: float64"
      ]
     },
     "execution_count": 158,
     "metadata": {},
     "output_type": "execute_result"
    }
   ],
   "source": [
    "df['gender'].value_counts(normalize=True)*100"
   ]
  },
  {
   "cell_type": "markdown",
   "id": "27ea93ee-61ad-4665-893c-eb095e55f063",
   "metadata": {},
   "source": [
    "In this above cell, we can see that I am calling the gender columns and seeing the value counts in float type"
   ]
  },
  {
   "cell_type": "markdown",
   "id": "18453beb-ff6f-407c-b2d5-ad329c4311df",
   "metadata": {},
   "source": [
    "**Without normalize parameter**"
   ]
  },
  {
   "cell_type": "code",
   "execution_count": 161,
   "id": "0bbbdacd-7c9d-4037-9e2b-717945205bb2",
   "metadata": {},
   "outputs": [
    {
     "name": "stdout",
     "output_type": "stream",
     "text": [
      "gender\n",
      "female    518\n",
      "male      482\n",
      "Name: count, dtype: int64\n"
     ]
    }
   ],
   "source": [
    "a=df['gender'].value_counts()\n",
    "print(a)"
   ]
  },
  {
   "cell_type": "markdown",
   "id": "d4e4843c-3085-44c5-9046-a223b63d1506",
   "metadata": {},
   "source": [
    "**With normalize parameter**"
   ]
  },
  {
   "cell_type": "code",
   "execution_count": 163,
   "id": "db6d4be1-63ed-4fa6-aa09-483e0c943986",
   "metadata": {},
   "outputs": [
    {
     "name": "stdout",
     "output_type": "stream",
     "text": [
      "gender\n",
      "female    0.518\n",
      "male      0.482\n",
      "Name: proportion, dtype: float64\n"
     ]
    }
   ],
   "source": [
    "b=df['gender'].value_counts(normalize=True)\n",
    "print(b)"
   ]
  },
  {
   "cell_type": "code",
   "execution_count": 164,
   "id": "47f548e1-5a35-48ba-a3e5-6f52b4926e44",
   "metadata": {},
   "outputs": [
    {
     "name": "stdout",
     "output_type": "stream",
     "text": [
      "Correlation between Maths score and Writing score: 0.8026420459498078\n"
     ]
    }
   ],
   "source": [
    "correlation = df['math score'].corr(df['writing score'])\n",
    "print(\"Correlation between Maths score and Writing score:\", correlation)"
   ]
  },
  {
   "cell_type": "code",
   "execution_count": 165,
   "id": "bd76b171-c3c7-4d48-860a-aeb52d487f65",
   "metadata": {},
   "outputs": [
    {
     "name": "stdout",
     "output_type": "stream",
     "text": [
      "Correlation between Maths score and Writing score: 0.9545980771462476\n"
     ]
    }
   ],
   "source": [
    "correlation = df['reading score'].corr(df['writing score'])\n",
    "print(\"Correlation between Maths score and Writing score:\", correlation)"
   ]
  },
  {
   "cell_type": "markdown",
   "id": "7c1f09f9-4b94-4474-914d-0d2028f667bb",
   "metadata": {},
   "source": [
    "In this topic, we are seeing the correlation between numerical columns"
   ]
  },
  {
   "cell_type": "code",
   "execution_count": 237,
   "id": "5214d8f6-c4f7-4b40-91c2-62b4ed7b497f",
   "metadata": {},
   "outputs": [
    {
     "data": {
      "text/plain": [
       "gender                          2\n",
       "race/ethnicity                  5\n",
       "parental level of education     6\n",
       "lunch                           2\n",
       "test preparation course         2\n",
       "math score                     81\n",
       "reading score                  72\n",
       "writing score                  77\n",
       "dtype: int64"
      ]
     },
     "execution_count": 237,
     "metadata": {},
     "output_type": "execute_result"
    }
   ],
   "source": [
    "df.nunique()"
   ]
  },
  {
   "cell_type": "markdown",
   "id": "3f953e72-3ba6-4755-879f-ffb2adb5c1fc",
   "metadata": {},
   "source": [
    "Types Of Features\r\n",
    "Categorical Features:\r\n",
    "A categorical variable is one that has two or more categories and each value in that feature can bcategorizeded by the m.For example, gender is a categorical variable having two categories (male and female). Now we cannot sort or give any ordering to such variables. They are also known as Nominal Variables.\r\n",
    "\r\n",
    "Categorical Features in the datasrace/ethnicity  parental level of education, lunch, test preparation course.ked.\r\n",
    "\r\n",
    "Ordinal Features:\r\n",
    "An ordinal variable is similar to categorical values, but the difference between them is that we can have relative ordering or sorting between the values. For eg: If we have a feature like Height with values Tall, Mand edium, Short, then Heianht is a ordinal variable. Here we can have a relative sort in the variable.\r\n",
    "\r\n",
    "Ordinal FeatureDatasete race/ethnicityt:Continuous\r\n",
    "Continous Feature:\r\n",
    "A feature iscontinuousbe continous if it can take values between any two points or between the minimum or maximum values in the featurContinuous.\r\n",
    "\r\n",
    "Continous FeDatasetinreading score, math score, writing score.e dataset: Aget: Age"
   ]
  },
  {
   "cell_type": "markdown",
   "id": "88edaaa5-7db5-417a-95ef-e2d63170dcea",
   "metadata": {},
   "source": [
    "**Missing value treatment** "
   ]
  },
  {
   "cell_type": "code",
   "execution_count": 241,
   "id": "d882a0e0-e156-4ecd-973b-23ef20f24f9a",
   "metadata": {},
   "outputs": [
    {
     "data": {
      "text/plain": [
       "gender                         0\n",
       "race/ethnicity                 0\n",
       "parental level of education    0\n",
       "lunch                          0\n",
       "test preparation course        0\n",
       "math score                     0\n",
       "reading score                  0\n",
       "writing score                  0\n",
       "dtype: int64"
      ]
     },
     "execution_count": 241,
     "metadata": {},
     "output_type": "execute_result"
    }
   ],
   "source": [
    "df.isnull().sum()"
   ]
  },
  {
   "cell_type": "markdown",
   "id": "ed09b7e6-ec77-4463-a3d2-7ca95af70d45",
   "metadata": {},
   "source": [
    "**Using IQR method**\n",
    "What is IQR metthod=The interquartile range (IQR) method is a statistical method that can be used to identify outliers in data. It's a straightforward approach that can be applied to a variety of data types, including genomics, proteomics, imaging data, and clinical data."
   ]
  },
  {
   "cell_type": "code",
   "execution_count": 244,
   "id": "e874c5b0-2da5-4185-ad1d-cfb0563b3fac",
   "metadata": {},
   "outputs": [
    {
     "data": {
      "text/html": [
       "<div>\n",
       "<style scoped>\n",
       "    .dataframe tbody tr th:only-of-type {\n",
       "        vertical-align: middle;\n",
       "    }\n",
       "\n",
       "    .dataframe tbody tr th {\n",
       "        vertical-align: top;\n",
       "    }\n",
       "\n",
       "    .dataframe thead th {\n",
       "        text-align: right;\n",
       "    }\n",
       "</style>\n",
       "<table border=\"1\" class=\"dataframe\">\n",
       "  <thead>\n",
       "    <tr style=\"text-align: right;\">\n",
       "      <th></th>\n",
       "      <th>math score</th>\n",
       "      <th>reading score</th>\n",
       "      <th>writing score</th>\n",
       "    </tr>\n",
       "  </thead>\n",
       "  <tbody>\n",
       "    <tr>\n",
       "      <th>count</th>\n",
       "      <td>1000.00000</td>\n",
       "      <td>1000.000000</td>\n",
       "      <td>1000.000000</td>\n",
       "    </tr>\n",
       "    <tr>\n",
       "      <th>mean</th>\n",
       "      <td>66.08900</td>\n",
       "      <td>69.169000</td>\n",
       "      <td>68.054000</td>\n",
       "    </tr>\n",
       "    <tr>\n",
       "      <th>std</th>\n",
       "      <td>15.16308</td>\n",
       "      <td>14.600192</td>\n",
       "      <td>15.195657</td>\n",
       "    </tr>\n",
       "    <tr>\n",
       "      <th>min</th>\n",
       "      <td>0.00000</td>\n",
       "      <td>17.000000</td>\n",
       "      <td>10.000000</td>\n",
       "    </tr>\n",
       "    <tr>\n",
       "      <th>25%</th>\n",
       "      <td>57.00000</td>\n",
       "      <td>59.000000</td>\n",
       "      <td>57.750000</td>\n",
       "    </tr>\n",
       "    <tr>\n",
       "      <th>50%</th>\n",
       "      <td>66.00000</td>\n",
       "      <td>70.000000</td>\n",
       "      <td>69.000000</td>\n",
       "    </tr>\n",
       "    <tr>\n",
       "      <th>75%</th>\n",
       "      <td>77.00000</td>\n",
       "      <td>79.000000</td>\n",
       "      <td>79.000000</td>\n",
       "    </tr>\n",
       "    <tr>\n",
       "      <th>max</th>\n",
       "      <td>100.00000</td>\n",
       "      <td>100.000000</td>\n",
       "      <td>100.000000</td>\n",
       "    </tr>\n",
       "  </tbody>\n",
       "</table>\n",
       "</div>"
      ],
      "text/plain": [
       "       math score  reading score  writing score\n",
       "count  1000.00000    1000.000000    1000.000000\n",
       "mean     66.08900      69.169000      68.054000\n",
       "std      15.16308      14.600192      15.195657\n",
       "min       0.00000      17.000000      10.000000\n",
       "25%      57.00000      59.000000      57.750000\n",
       "50%      66.00000      70.000000      69.000000\n",
       "75%      77.00000      79.000000      79.000000\n",
       "max     100.00000     100.000000     100.000000"
      ]
     },
     "execution_count": 244,
     "metadata": {},
     "output_type": "execute_result"
    }
   ],
   "source": [
    "df.describe()"
   ]
  },
  {
   "cell_type": "code",
   "execution_count": 246,
   "id": "e8ae6380-53ca-46fa-90cb-d3d128b50604",
   "metadata": {},
   "outputs": [
    {
     "data": {
      "text/html": [
       "<div>\n",
       "<style scoped>\n",
       "    .dataframe tbody tr th:only-of-type {\n",
       "        vertical-align: middle;\n",
       "    }\n",
       "\n",
       "    .dataframe tbody tr th {\n",
       "        vertical-align: top;\n",
       "    }\n",
       "\n",
       "    .dataframe thead th {\n",
       "        text-align: right;\n",
       "    }\n",
       "</style>\n",
       "<table border=\"1\" class=\"dataframe\">\n",
       "  <thead>\n",
       "    <tr style=\"text-align: right;\">\n",
       "      <th></th>\n",
       "      <th>gender</th>\n",
       "      <th>race/ethnicity</th>\n",
       "      <th>parental level of education</th>\n",
       "      <th>lunch</th>\n",
       "      <th>test preparation course</th>\n",
       "      <th>math score</th>\n",
       "      <th>reading score</th>\n",
       "      <th>writing score</th>\n",
       "    </tr>\n",
       "  </thead>\n",
       "  <tbody>\n",
       "    <tr>\n",
       "      <th>0</th>\n",
       "      <td>female</td>\n",
       "      <td>group B</td>\n",
       "      <td>bachelor's degree</td>\n",
       "      <td>standard</td>\n",
       "      <td>none</td>\n",
       "      <td>72</td>\n",
       "      <td>72</td>\n",
       "      <td>74</td>\n",
       "    </tr>\n",
       "    <tr>\n",
       "      <th>1</th>\n",
       "      <td>female</td>\n",
       "      <td>group C</td>\n",
       "      <td>some college</td>\n",
       "      <td>standard</td>\n",
       "      <td>completed</td>\n",
       "      <td>69</td>\n",
       "      <td>90</td>\n",
       "      <td>88</td>\n",
       "    </tr>\n",
       "    <tr>\n",
       "      <th>2</th>\n",
       "      <td>female</td>\n",
       "      <td>group B</td>\n",
       "      <td>master's degree</td>\n",
       "      <td>standard</td>\n",
       "      <td>none</td>\n",
       "      <td>90</td>\n",
       "      <td>95</td>\n",
       "      <td>93</td>\n",
       "    </tr>\n",
       "    <tr>\n",
       "      <th>3</th>\n",
       "      <td>male</td>\n",
       "      <td>group A</td>\n",
       "      <td>associate's degree</td>\n",
       "      <td>free/reduced</td>\n",
       "      <td>none</td>\n",
       "      <td>47</td>\n",
       "      <td>57</td>\n",
       "      <td>44</td>\n",
       "    </tr>\n",
       "    <tr>\n",
       "      <th>4</th>\n",
       "      <td>male</td>\n",
       "      <td>group C</td>\n",
       "      <td>some college</td>\n",
       "      <td>standard</td>\n",
       "      <td>none</td>\n",
       "      <td>76</td>\n",
       "      <td>78</td>\n",
       "      <td>75</td>\n",
       "    </tr>\n",
       "  </tbody>\n",
       "</table>\n",
       "</div>"
      ],
      "text/plain": [
       "   gender race/ethnicity parental level of education         lunch  \\\n",
       "0  female        group B           bachelor's degree      standard   \n",
       "1  female        group C                some college      standard   \n",
       "2  female        group B             master's degree      standard   \n",
       "3    male        group A          associate's degree  free/reduced   \n",
       "4    male        group C                some college      standard   \n",
       "\n",
       "  test preparation course  math score  reading score  writing score  \n",
       "0                    none          72             72             74  \n",
       "1               completed          69             90             88  \n",
       "2                    none          90             95             93  \n",
       "3                    none          47             57             44  \n",
       "4                    none          76             78             75  "
      ]
     },
     "execution_count": 246,
     "metadata": {},
     "output_type": "execute_result"
    }
   ],
   "source": [
    "df.head()"
   ]
  },
  {
   "cell_type": "code",
   "execution_count": 248,
   "id": "92f124a0-664e-4ba3-a063-3c2a39a37ceb",
   "metadata": {},
   "outputs": [
    {
     "name": "stdout",
     "output_type": "stream",
     "text": [
      "math score       57.00\n",
      "reading score    59.00\n",
      "writing score    57.75\n",
      "Name: 0.25, dtype: float64\n",
      "math score       77.0\n",
      "reading score    79.0\n",
      "writing score    79.0\n",
      "Name: 0.75, dtype: float64\n"
     ]
    }
   ],
   "source": [
    "q1=df[num].quantile(0.25)\n",
    "q3=df[num].quantile(0.75)\n",
    "print(q1)\n",
    "print(q3)"
   ]
  },
  {
   "cell_type": "code",
   "execution_count": 250,
   "id": "91d7910a-46a4-43c8-b082-6494edff9538",
   "metadata": {},
   "outputs": [
    {
     "data": {
      "text/plain": [
       "math score       20.00\n",
       "reading score    20.00\n",
       "writing score    21.25\n",
       "dtype: float64"
      ]
     },
     "execution_count": 250,
     "metadata": {},
     "output_type": "execute_result"
    }
   ],
   "source": [
    "iqr = q3-q1\n",
    "iqr"
   ]
  },
  {
   "cell_type": "code",
   "execution_count": 252,
   "id": "a3fda8d4-6b8b-4cda-9e71-f16ac8750381",
   "metadata": {},
   "outputs": [
    {
     "name": "stdout",
     "output_type": "stream",
     "text": [
      "math score       107.000\n",
      "reading score    109.000\n",
      "writing score    110.875\n",
      "dtype: float64\n",
      "math score       27.000\n",
      "reading score    29.000\n",
      "writing score    25.875\n",
      "dtype: float64\n"
     ]
    }
   ],
   "source": [
    "lower=q1-1.5*iqr\n",
    "upper=q3+1.5*iqr\n",
    "print(upper)\n",
    "print(lower)"
   ]
  },
  {
   "cell_type": "code",
   "execution_count": 254,
   "id": "9e54e63b-5736-4ac7-8af7-b359c9db715a",
   "metadata": {},
   "outputs": [
    {
     "name": "stdout",
     "output_type": "stream",
     "text": [
      "    gender race/ethnicity parental level of education lunch  \\\n",
      "0      NaN            NaN                         NaN   NaN   \n",
      "1      NaN            NaN                         NaN   NaN   \n",
      "2      NaN            NaN                         NaN   NaN   \n",
      "3      NaN            NaN                         NaN   NaN   \n",
      "4      NaN            NaN                         NaN   NaN   \n",
      "..     ...            ...                         ...   ...   \n",
      "995    NaN            NaN                         NaN   NaN   \n",
      "996    NaN            NaN                         NaN   NaN   \n",
      "997    NaN            NaN                         NaN   NaN   \n",
      "998    NaN            NaN                         NaN   NaN   \n",
      "999    NaN            NaN                         NaN   NaN   \n",
      "\n",
      "    test preparation course  math score  reading score  writing score  \n",
      "0                       NaN         NaN            NaN            NaN  \n",
      "1                       NaN         NaN            NaN            NaN  \n",
      "2                       NaN         NaN            NaN            NaN  \n",
      "3                       NaN         NaN            NaN            NaN  \n",
      "4                       NaN         NaN            NaN            NaN  \n",
      "..                      ...         ...            ...            ...  \n",
      "995                     NaN         NaN            NaN            NaN  \n",
      "996                     NaN         NaN            NaN            NaN  \n",
      "997                     NaN         NaN            NaN            NaN  \n",
      "998                     NaN         NaN            NaN            NaN  \n",
      "999                     NaN         NaN            NaN            NaN  \n",
      "\n",
      "[1000 rows x 8 columns]\n"
     ]
    }
   ],
   "source": [
    "outliers=df[((df[num]<lower)|(df[num]>upper))]\n",
    "print(outliers)"
   ]
  },
  {
   "cell_type": "code",
   "execution_count": 256,
   "id": "994520ad-7911-4274-bb7e-0816287a90ef",
   "metadata": {},
   "outputs": [
    {
     "name": "stdout",
     "output_type": "stream",
     "text": [
      "    gender race/ethnicity parental level of education lunch  \\\n",
      "0      NaN            NaN                         NaN   NaN   \n",
      "1      NaN            NaN                         NaN   NaN   \n",
      "2      NaN            NaN                         NaN   NaN   \n",
      "3      NaN            NaN                         NaN   NaN   \n",
      "4      NaN            NaN                         NaN   NaN   \n",
      "..     ...            ...                         ...   ...   \n",
      "995    NaN            NaN                         NaN   NaN   \n",
      "996    NaN            NaN                         NaN   NaN   \n",
      "997    NaN            NaN                         NaN   NaN   \n",
      "998    NaN            NaN                         NaN   NaN   \n",
      "999    NaN            NaN                         NaN   NaN   \n",
      "\n",
      "    test preparation course  math score  reading score  writing score  \n",
      "0                       NaN        72.0           72.0           74.0  \n",
      "1                       NaN        69.0           90.0           88.0  \n",
      "2                       NaN        90.0           95.0           93.0  \n",
      "3                       NaN        47.0           57.0           44.0  \n",
      "4                       NaN        76.0           78.0           75.0  \n",
      "..                      ...         ...            ...            ...  \n",
      "995                     NaN        88.0           99.0           95.0  \n",
      "996                     NaN        62.0           55.0           55.0  \n",
      "997                     NaN        59.0           71.0           65.0  \n",
      "998                     NaN        68.0           78.0           77.0  \n",
      "999                     NaN        77.0           86.0           86.0  \n",
      "\n",
      "[1000 rows x 8 columns]\n"
     ]
    }
   ],
   "source": [
    "nooutliers=df[~((df[num]<lower)|(df[num]>upper))]\n",
    "print(nooutliers)"
   ]
  },
  {
   "cell_type": "markdown",
   "id": "7d310709-55f0-42ac-937c-852eddc2b9ee",
   "metadata": {},
   "source": [
    "In the above two cells, we can see that we filtered out the numerical columns into a separate par as outliers and no outliers apart"
   ]
  },
  {
   "cell_type": "code",
   "execution_count": 259,
   "id": "f1281119-0e0b-4fe6-8f1d-2adc52851114",
   "metadata": {},
   "outputs": [
    {
     "data": {
      "text/html": [
       "<div>\n",
       "<style scoped>\n",
       "    .dataframe tbody tr th:only-of-type {\n",
       "        vertical-align: middle;\n",
       "    }\n",
       "\n",
       "    .dataframe tbody tr th {\n",
       "        vertical-align: top;\n",
       "    }\n",
       "\n",
       "    .dataframe thead th {\n",
       "        text-align: right;\n",
       "    }\n",
       "</style>\n",
       "<table border=\"1\" class=\"dataframe\">\n",
       "  <thead>\n",
       "    <tr style=\"text-align: right;\">\n",
       "      <th></th>\n",
       "      <th>gender</th>\n",
       "      <th>race/ethnicity</th>\n",
       "      <th>parental level of education</th>\n",
       "      <th>lunch</th>\n",
       "      <th>test preparation course</th>\n",
       "      <th>math score</th>\n",
       "      <th>reading score</th>\n",
       "      <th>writing score</th>\n",
       "    </tr>\n",
       "  </thead>\n",
       "  <tbody>\n",
       "    <tr>\n",
       "      <th>0</th>\n",
       "      <td>female</td>\n",
       "      <td>group B</td>\n",
       "      <td>bachelor's degree</td>\n",
       "      <td>standard</td>\n",
       "      <td>none</td>\n",
       "      <td>72</td>\n",
       "      <td>72</td>\n",
       "      <td>74</td>\n",
       "    </tr>\n",
       "    <tr>\n",
       "      <th>1</th>\n",
       "      <td>female</td>\n",
       "      <td>group C</td>\n",
       "      <td>some college</td>\n",
       "      <td>standard</td>\n",
       "      <td>completed</td>\n",
       "      <td>69</td>\n",
       "      <td>90</td>\n",
       "      <td>88</td>\n",
       "    </tr>\n",
       "    <tr>\n",
       "      <th>2</th>\n",
       "      <td>female</td>\n",
       "      <td>group B</td>\n",
       "      <td>master's degree</td>\n",
       "      <td>standard</td>\n",
       "      <td>none</td>\n",
       "      <td>90</td>\n",
       "      <td>95</td>\n",
       "      <td>93</td>\n",
       "    </tr>\n",
       "    <tr>\n",
       "      <th>3</th>\n",
       "      <td>male</td>\n",
       "      <td>group A</td>\n",
       "      <td>associate's degree</td>\n",
       "      <td>free/reduced</td>\n",
       "      <td>none</td>\n",
       "      <td>47</td>\n",
       "      <td>57</td>\n",
       "      <td>44</td>\n",
       "    </tr>\n",
       "    <tr>\n",
       "      <th>4</th>\n",
       "      <td>male</td>\n",
       "      <td>group C</td>\n",
       "      <td>some college</td>\n",
       "      <td>standard</td>\n",
       "      <td>none</td>\n",
       "      <td>76</td>\n",
       "      <td>78</td>\n",
       "      <td>75</td>\n",
       "    </tr>\n",
       "  </tbody>\n",
       "</table>\n",
       "</div>"
      ],
      "text/plain": [
       "   gender race/ethnicity parental level of education         lunch  \\\n",
       "0  female        group B           bachelor's degree      standard   \n",
       "1  female        group C                some college      standard   \n",
       "2  female        group B             master's degree      standard   \n",
       "3    male        group A          associate's degree  free/reduced   \n",
       "4    male        group C                some college      standard   \n",
       "\n",
       "  test preparation course  math score  reading score  writing score  \n",
       "0                    none          72             72             74  \n",
       "1               completed          69             90             88  \n",
       "2                    none          90             95             93  \n",
       "3                    none          47             57             44  \n",
       "4                    none          76             78             75  "
      ]
     },
     "execution_count": 259,
     "metadata": {},
     "output_type": "execute_result"
    }
   ],
   "source": [
    "df.head()"
   ]
  },
  {
   "cell_type": "code",
   "execution_count": 261,
   "id": "3b9754dc-c127-45a7-bd80-219c6c8e7cc5",
   "metadata": {},
   "outputs": [
    {
     "data": {
      "text/html": [
       "<div>\n",
       "<style scoped>\n",
       "    .dataframe tbody tr th:only-of-type {\n",
       "        vertical-align: middle;\n",
       "    }\n",
       "\n",
       "    .dataframe tbody tr th {\n",
       "        vertical-align: top;\n",
       "    }\n",
       "\n",
       "    .dataframe thead th {\n",
       "        text-align: right;\n",
       "    }\n",
       "</style>\n",
       "<table border=\"1\" class=\"dataframe\">\n",
       "  <thead>\n",
       "    <tr style=\"text-align: right;\">\n",
       "      <th></th>\n",
       "      <th>gender</th>\n",
       "      <th>race/ethnicity</th>\n",
       "      <th>parental level of education</th>\n",
       "      <th>lunch</th>\n",
       "      <th>test preparation course</th>\n",
       "      <th>math score</th>\n",
       "      <th>reading score</th>\n",
       "      <th>writing score</th>\n",
       "    </tr>\n",
       "  </thead>\n",
       "  <tbody>\n",
       "    <tr>\n",
       "      <th>995</th>\n",
       "      <td>female</td>\n",
       "      <td>group E</td>\n",
       "      <td>master's degree</td>\n",
       "      <td>standard</td>\n",
       "      <td>completed</td>\n",
       "      <td>88</td>\n",
       "      <td>99</td>\n",
       "      <td>95</td>\n",
       "    </tr>\n",
       "    <tr>\n",
       "      <th>996</th>\n",
       "      <td>male</td>\n",
       "      <td>group C</td>\n",
       "      <td>high school</td>\n",
       "      <td>free/reduced</td>\n",
       "      <td>none</td>\n",
       "      <td>62</td>\n",
       "      <td>55</td>\n",
       "      <td>55</td>\n",
       "    </tr>\n",
       "    <tr>\n",
       "      <th>997</th>\n",
       "      <td>female</td>\n",
       "      <td>group C</td>\n",
       "      <td>high school</td>\n",
       "      <td>free/reduced</td>\n",
       "      <td>completed</td>\n",
       "      <td>59</td>\n",
       "      <td>71</td>\n",
       "      <td>65</td>\n",
       "    </tr>\n",
       "    <tr>\n",
       "      <th>998</th>\n",
       "      <td>female</td>\n",
       "      <td>group D</td>\n",
       "      <td>some college</td>\n",
       "      <td>standard</td>\n",
       "      <td>completed</td>\n",
       "      <td>68</td>\n",
       "      <td>78</td>\n",
       "      <td>77</td>\n",
       "    </tr>\n",
       "    <tr>\n",
       "      <th>999</th>\n",
       "      <td>female</td>\n",
       "      <td>group D</td>\n",
       "      <td>some college</td>\n",
       "      <td>free/reduced</td>\n",
       "      <td>none</td>\n",
       "      <td>77</td>\n",
       "      <td>86</td>\n",
       "      <td>86</td>\n",
       "    </tr>\n",
       "  </tbody>\n",
       "</table>\n",
       "</div>"
      ],
      "text/plain": [
       "     gender race/ethnicity parental level of education         lunch  \\\n",
       "995  female        group E             master's degree      standard   \n",
       "996    male        group C                 high school  free/reduced   \n",
       "997  female        group C                 high school  free/reduced   \n",
       "998  female        group D                some college      standard   \n",
       "999  female        group D                some college  free/reduced   \n",
       "\n",
       "    test preparation course  math score  reading score  writing score  \n",
       "995               completed          88             99             95  \n",
       "996                    none          62             55             55  \n",
       "997               completed          59             71             65  \n",
       "998               completed          68             78             77  \n",
       "999                    none          77             86             86  "
      ]
     },
     "execution_count": 261,
     "metadata": {},
     "output_type": "execute_result"
    }
   ],
   "source": [
    "df.tail()"
   ]
  },
  {
   "cell_type": "markdown",
   "id": "02b126e6-7218-4128-aff0-70e4cebae3c1",
   "metadata": {},
   "source": [
    "**Visualization**\n",
    "Visualization (graphics), is the physical or imagining creation of images, diagrams, or animations to communicate a message. Data and information visualization is the practice of creating visual representations of complex data and information."
   ]
  },
  {
   "cell_type": "code",
   "execution_count": 264,
   "id": "19134943-3c93-464e-88b1-838a27e2aee9",
   "metadata": {},
   "outputs": [
    {
     "data": {
      "image/png": "[encoded data removed]",
      "text/plain": [
       "<Figure size 800x500 with 1 Axes>"
      ]
     },
     "metadata": {},
     "output_type": "display_data"
    }
   ],
   "source": [
    "plt.figure(figsize=(8,5))\n",
    "sns.distplot(nooutliers[num])\n",
    "plt.title(\"With out outliers\")\n",
    "plt.show()"
   ]
  },
  {
   "cell_type": "code",
   "execution_count": 265,
   "id": "6017a88a-2904-48f5-baf7-a5d31c1024ed",
   "metadata": {},
   "outputs": [
    {
     "data": {
      "image/png": "[encoded data removed]",
      "text/plain": [
       "<Figure size 800x500 with 1 Axes>"
      ]
     },
     "metadata": {},
     "output_type": "display_data"
    }
   ],
   "source": [
    "plt.figure(figsize=(8,5))\n",
    "sns.distplot(outliers[num])\n",
    "plt.title(\"With outliers\")\n",
    "plt.show()"
   ]
  },
  {
   "cell_type": "markdown",
   "id": "c0ba1235-1bd9-4e5f-88f4-24844f0445ef",
   "metadata": {},
   "source": [
    "**Visualization**\n",
    "* Uni-Variate "
   ]
  },
  {
   "cell_type": "code",
   "execution_count": 269,
   "id": "c7118316-04f8-4684-9249-5807963cfdb5",
   "metadata": {},
   "outputs": [
    {
     "data": {
      "text/html": [
       "<div>\n",
       "<style scoped>\n",
       "    .dataframe tbody tr th:only-of-type {\n",
       "        vertical-align: middle;\n",
       "    }\n",
       "\n",
       "    .dataframe tbody tr th {\n",
       "        vertical-align: top;\n",
       "    }\n",
       "\n",
       "    .dataframe thead th {\n",
       "        text-align: right;\n",
       "    }\n",
       "</style>\n",
       "<table border=\"1\" class=\"dataframe\">\n",
       "  <thead>\n",
       "    <tr style=\"text-align: right;\">\n",
       "      <th></th>\n",
       "      <th>gender</th>\n",
       "      <th>race/ethnicity</th>\n",
       "      <th>parental level of education</th>\n",
       "      <th>lunch</th>\n",
       "      <th>test preparation course</th>\n",
       "      <th>math score</th>\n",
       "      <th>reading score</th>\n",
       "      <th>writing score</th>\n",
       "    </tr>\n",
       "  </thead>\n",
       "  <tbody>\n",
       "    <tr>\n",
       "      <th>0</th>\n",
       "      <td>female</td>\n",
       "      <td>group B</td>\n",
       "      <td>bachelor's degree</td>\n",
       "      <td>standard</td>\n",
       "      <td>none</td>\n",
       "      <td>72</td>\n",
       "      <td>72</td>\n",
       "      <td>74</td>\n",
       "    </tr>\n",
       "    <tr>\n",
       "      <th>1</th>\n",
       "      <td>female</td>\n",
       "      <td>group C</td>\n",
       "      <td>some college</td>\n",
       "      <td>standard</td>\n",
       "      <td>completed</td>\n",
       "      <td>69</td>\n",
       "      <td>90</td>\n",
       "      <td>88</td>\n",
       "    </tr>\n",
       "    <tr>\n",
       "      <th>2</th>\n",
       "      <td>female</td>\n",
       "      <td>group B</td>\n",
       "      <td>master's degree</td>\n",
       "      <td>standard</td>\n",
       "      <td>none</td>\n",
       "      <td>90</td>\n",
       "      <td>95</td>\n",
       "      <td>93</td>\n",
       "    </tr>\n",
       "    <tr>\n",
       "      <th>3</th>\n",
       "      <td>male</td>\n",
       "      <td>group A</td>\n",
       "      <td>associate's degree</td>\n",
       "      <td>free/reduced</td>\n",
       "      <td>none</td>\n",
       "      <td>47</td>\n",
       "      <td>57</td>\n",
       "      <td>44</td>\n",
       "    </tr>\n",
       "    <tr>\n",
       "      <th>4</th>\n",
       "      <td>male</td>\n",
       "      <td>group C</td>\n",
       "      <td>some college</td>\n",
       "      <td>standard</td>\n",
       "      <td>none</td>\n",
       "      <td>76</td>\n",
       "      <td>78</td>\n",
       "      <td>75</td>\n",
       "    </tr>\n",
       "  </tbody>\n",
       "</table>\n",
       "</div>"
      ],
      "text/plain": [
       "   gender race/ethnicity parental level of education         lunch  \\\n",
       "0  female        group B           bachelor's degree      standard   \n",
       "1  female        group C                some college      standard   \n",
       "2  female        group B             master's degree      standard   \n",
       "3    male        group A          associate's degree  free/reduced   \n",
       "4    male        group C                some college      standard   \n",
       "\n",
       "  test preparation course  math score  reading score  writing score  \n",
       "0                    none          72             72             74  \n",
       "1               completed          69             90             88  \n",
       "2                    none          90             95             93  \n",
       "3                    none          47             57             44  \n",
       "4                    none          76             78             75  "
      ]
     },
     "execution_count": 269,
     "metadata": {},
     "output_type": "execute_result"
    }
   ],
   "source": [
    "df.head()"
   ]
  },
  {
   "cell_type": "code",
   "execution_count": 271,
   "id": "3fed4ac6-9ff1-4e10-b688-da406c9cf919",
   "metadata": {},
   "outputs": [
    {
     "data": {
      "image/png": "[encoded data removed]",
      "text/plain": [
       "<Figure size 1200x500 with 2 Axes>"
      ]
     },
     "metadata": {},
     "output_type": "display_data"
    }
   ],
   "source": [
    "f,ax=plt.subplots(1,2,figsize = (12,5))\n",
    "sns.distplot(df['writing score'],ax=ax[0])\n",
    "sns.distplot(df['reading score'],ax=ax[1])\n",
    "ax[0].set_title(\"Distribution of Maths score\")\n",
    "ax[1].set_title(\"Distribution of Writing score\")\n",
    "plt.show()"
   ]
  },
  {
   "cell_type": "code",
   "execution_count": 272,
   "id": "fd06338f-6fe3-4c8f-975c-20b72273c24b",
   "metadata": {},
   "outputs": [
    {
     "data": {
      "image/png": "[encoded data removed]",
      "text/plain": [
       "<Figure size 1200x500 with 2 Axes>"
      ]
     },
     "metadata": {},
     "output_type": "display_data"
    }
   ],
   "source": [
    "f,ax=plt.subplots(1,2,figsize = (12,5))\n",
    "sns.boxplot(df['writing score'],ax=ax[0])\n",
    "sns.boxplot(df['reading score'],ax=ax[1])\n",
    "ax[0].set_title(\"Boxplot for writing score \")\n",
    "ax[1].set_title(\"Boxplot for reading score\")\n",
    "plt.show()"
   ]
  },
  {
   "cell_type": "code",
   "execution_count": 275,
   "id": "88965f10-1456-4572-9cbb-05c412540bed",
   "metadata": {},
   "outputs": [
    {
     "data": {
      "image/png": "[encoded data removed]",
      "text/plain": [
       "<Figure size 640x480 with 1 Axes>"
      ]
     },
     "metadata": {},
     "output_type": "display_data"
    }
   ],
   "source": [
    "plt.pie(df['test preparation course'].value_counts(),autopct=\"%.2f%%\", labels= df['test preparation course'].value_counts().index, explode=[0, 0.1])\n",
    "plt.title(\"Pie Chart for Test Preparation Column\")\n",
    "plt.show()"
   ]
  },
  {
   "cell_type": "code",
   "execution_count": 277,
   "id": "e815771d-4ee1-421b-9dda-ee9cfe5742e5",
   "metadata": {},
   "outputs": [
    {
     "data": {
      "image/png": "[encoded data removed]",
      "text/plain": [
       "<Figure size 1200x500 with 6 Axes>"
      ]
     },
     "metadata": {},
     "output_type": "display_data"
    }
   ],
   "source": [
    "df.plot.hist(subplots= True,layout=(2,3),figsize=(12,5),sharex= True,sharey=True)\n",
    "plt.show()"
   ]
  },
  {
   "cell_type": "code",
   "execution_count": 279,
   "id": "eeb4eba5-abcb-4a5c-8967-766554f3a266",
   "metadata": {},
   "outputs": [
    {
     "data": {
      "image/png": "[encoded data removed]",
      "text/plain": [
       "<Figure size 640x480 with 1 Axes>"
      ]
     },
     "metadata": {},
     "output_type": "display_data"
    }
   ],
   "source": [
    "df.boxplot()\n",
    "plt.show()"
   ]
  },
  {
   "cell_type": "markdown",
   "id": "619d246a-afdb-40af-a137-30ab46d6b620",
   "metadata": {},
   "source": [
    "**Bi-variate**"
   ]
  },
  {
   "cell_type": "code",
   "execution_count": null,
   "id": "fd916691-274d-41bf-9cee-50b7545c2cf2",
   "metadata": {},
   "outputs": [],
   "source": []
  }
 ],
 "metadata": {
  "kernelspec": {
   "display_name": "Python 3 (ipykernel)",
   "language": "python",
   "name": "python3"
  },
  "language_info": {
   "codemirror_mode": {
    "name": "ipython",
    "version": 3
   },
   "file_extension": ".py",
   "mimetype": "text/x-python",
   "name": "python",
   "nbconvert_exporter": "python",
   "pygments_lexer": "ipython3",
   "version": "3.12.4"
  }
 },
 "nbformat": 4,
 "nbformat_minor": 5
}
